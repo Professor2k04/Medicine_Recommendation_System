{
 "cells": [
  {
   "cell_type": "code",
   "execution_count": 4,
   "metadata": {},
   "outputs": [
    {
     "name": "stdout",
     "output_type": "stream",
     "text": [
      "Recommended Medicine: Propranolol\n",
      "Recommended Dosage Level: 25mg\n",
      "Check for Contra Indication-Asthma\n",
      "If Asthma present\n",
      "Recommended Medicine: Atenolol\n",
      "Recommended Dosage Level: 100mg\n"
     ]
    },
    {
     "name": "stderr",
     "output_type": "stream",
     "text": [
      "c:\\Users\\gugan\\AppData\\Local\\Programs\\Python\\Python312\\Lib\\site-packages\\sklearn\\base.py:493: UserWarning: X does not have valid feature names, but StandardScaler was fitted with feature names\n",
      "  warnings.warn(\n"
     ]
    }
   ],
   "source": [
    "import numpy as np\n",
    "from sklearn.preprocessing import StandardScaler\n",
    "from sklearn.svm import SVC\n",
    "from sklearn.preprocessing import LabelEncoder\n",
    "\n",
    "# Load the pre-trained SVM model\n",
    "import pickle\n",
    "\n",
    "with open('Heart_beat_Classification.pkl', 'rb') as file:\n",
    "    svm_model = pickle.load(file)\n",
    "\n",
    "# Assuming 'sc' is the StandardScaler object used for standardization\n",
    "# Load the StandardScaler object used for standardization\n",
    "with open('Heartbeatscaler.pkl', 'rb') as file:\n",
    "    sc = pickle.load(file)\n",
    "\n",
    "# Assuming 'label_encoder' is the LabelEncoder object used for encoding class labels\n",
    "# Load the LabelEncoder object\n",
    "with open('Heartbeat_label_encoder.pkl', 'rb') as file:\n",
    "    label_encoder = pickle.load(file)\n",
    "\n",
    "# Custom input\n",
    "c = [[108, 53]]\n",
    "c = np.array(c)\n",
    "\n",
    "# Standardize the custom input using the loaded scaler object\n",
    "c_std = sc.transform(c)\n",
    "\n",
    "# Predict the class using the pre-trained SVM model\n",
    "predicted_class = svm_model.predict(c_std)\n",
    "\n",
    "# Decode the predicted class using the loaded label encoder\n",
    "predicted_class_decoded = label_encoder.inverse_transform(predicted_class)\n",
    "\n",
    "# Join the predicted class values into a string\n",
    "arr_str_flat = ', '.join(predicted_class_decoded.flatten())\n",
    "\n",
    "# Print the recommended medicine based on the predicted class\n",
    "print(\"Recommended Medicine:\", arr_str_flat)\n",
    "\n",
    "# Determine the recommended dosage level based on the predicted class\n",
    "if predicted_class==0:\n",
    "    print('Recommended Dosage Level: 0.6mg')\n",
    "elif predicted_class==1:\n",
    "    print('The Patient has Ideal Heart Beat Rate')\n",
    "else:\n",
    "    print('Recommended Dosage Level: 25mg')\n",
    "    print('Check for Contra Indication-Asthma')\n",
    "    print('If Asthma present' )\n",
    "    print(\"Recommended Medicine: Atenolol\")\n",
    "    print('Recommended Dosage Level: 100mg')\n",
    "\n",
    "    \n",
    "   \n"
   ]
  },
  {
   "cell_type": "code",
   "execution_count": null,
   "metadata": {},
   "outputs": [],
   "source": []
  }
 ],
 "metadata": {
  "kernelspec": {
   "display_name": "Python 3",
   "language": "python",
   "name": "python3"
  },
  "language_info": {
   "codemirror_mode": {
    "name": "ipython",
    "version": 3
   },
   "file_extension": ".py",
   "mimetype": "text/x-python",
   "name": "python",
   "nbconvert_exporter": "python",
   "pygments_lexer": "ipython3",
   "version": "3.12.3"
  }
 },
 "nbformat": 4,
 "nbformat_minor": 2
}
